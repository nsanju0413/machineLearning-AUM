{
  "cells": [
    {
      "cell_type": "markdown",
      "metadata": {
        "id": "view-in-github",
        "colab_type": "text"
      },
      "source": [
        "<a href=\"https://colab.research.google.com/github/nsanju0413/machineLearning-AUM/blob/main/Basics_of_Numpy.ipynb\" target=\"_parent\"><img src=\"https://colab.research.google.com/assets/colab-badge.svg\" alt=\"Open In Colab\"/></a>"
      ]
    },
    {
      "cell_type": "markdown",
      "metadata": {
        "id": "8Y9K2bHrtX6u"
      },
      "source": [
        "**What is NumPy?**\n",
        "\n",
        "NumPy, which stands for Numerical Python, is a fundamental package for numerical computing in Python. It provides support for large, multi-dimensional arrays and matrices, along with a collection of mathematical functions to operate on these arrays efficiently."
      ]
    },
    {
      "cell_type": "markdown",
      "metadata": {
        "id": "rcvAA-PatX6w"
      },
      "source": [
        "Importing NumPy ⬇️"
      ]
    },
    {
      "cell_type": "code",
      "execution_count": null,
      "metadata": {
        "id": "p1pSXD21tX6w"
      },
      "outputs": [],
      "source": [
        "import numpy as np"
      ]
    },
    {
      "cell_type": "markdown",
      "metadata": {
        "id": "qcCiLyNxtX6x"
      },
      "source": [
        "## Creating Arrays of different DataTypes\n",
        "NumPy supports a wide range of data types that allow for efficient storage and manipulation of large arrays of data.\n",
        "Common data types include:\n",
        "\n",
        "- int: Integer values\n",
        "- float: Floating-point numbers\n",
        "- bool: Boolean values\n",
        "- complex: Complex numbers"
      ]
    },
    {
      "cell_type": "markdown",
      "metadata": {
        "id": "JUjn0_LMtX6x"
      },
      "source": [
        "The core data structure in NumPy is the `ndarray` (n-dimensional array), which represents a grid of values, all of the same data type. It is a powerful tool for handling large datasets in scientific computing and data analysis.\n",
        "\n",
        "`ndarray` can be created in several ways, such as using functions like `numpy.array()`, `numpy.zeros()`, `numpy.ones()`, or `numpy.arange()`\n",
        "\n",
        "Here we create arrays of different datatypes."
      ]
    },
    {
      "cell_type": "code",
      "execution_count": null,
      "metadata": {
        "id": "qA025qyJtX6x",
        "outputId": "db0a3407-bb1f-4cba-8f7b-b1fdf3eb29a7"
      },
      "outputs": [
        {
          "data": {
            "text/plain": [
              "array([1, 2, 3, 4], dtype=int32)"
            ]
          },
          "execution_count": 2,
          "metadata": {},
          "output_type": "execute_result"
        }
      ],
      "source": [
        "int_array = np.array([1, 2, 3, 4], dtype=np.int32)\n",
        "int_array"
      ]
    },
    {
      "cell_type": "code",
      "execution_count": null,
      "metadata": {
        "id": "39lnfAkGtX6y",
        "outputId": "4761bdb4-f6ae-40e3-a5b2-7befb07587aa"
      },
      "outputs": [
        {
          "data": {
            "text/plain": [
              "array([1.1, 2.2, 3.3, 4.4])"
            ]
          },
          "execution_count": 3,
          "metadata": {},
          "output_type": "execute_result"
        }
      ],
      "source": [
        "float_array = np.array([1.1, 2.2, 3.3, 4.4], dtype=np.float64)\n",
        "float_array"
      ]
    },
    {
      "cell_type": "code",
      "execution_count": null,
      "metadata": {
        "id": "_e74PwIttX6y",
        "outputId": "982de6de-050c-4144-c68a-22affca42346"
      },
      "outputs": [
        {
          "data": {
            "text/plain": [
              "array([ True, False,  True, False])"
            ]
          },
          "execution_count": 4,
          "metadata": {},
          "output_type": "execute_result"
        }
      ],
      "source": [
        "bool_array = np.array([True, False, True, False], dtype=np.bool_)\n",
        "bool_array"
      ]
    },
    {
      "cell_type": "code",
      "execution_count": null,
      "metadata": {
        "id": "LYin3RMytX6y",
        "outputId": "ffe056b3-28a8-4dee-c6ba-d03cf5b5b369"
      },
      "outputs": [
        {
          "data": {
            "text/plain": [
              "array([1.+2.j, 3.+4.j, 5.+6.j])"
            ]
          },
          "execution_count": 5,
          "metadata": {},
          "output_type": "execute_result"
        }
      ],
      "source": [
        "complex_array = np.array([1+2j, 3+4j, 5+6j], dtype=np.complex128)\n",
        "complex_array"
      ]
    },
    {
      "cell_type": "code",
      "execution_count": null,
      "metadata": {
        "id": "bOLX75hytX6y",
        "outputId": "f929b2f0-95e9-4dc0-c356-c696ff23c4cd"
      },
      "outputs": [
        {
          "data": {
            "text/plain": [
              "array([[1. , 2. , 3.3],\n",
              "       [4. , 5. , 4.5]])"
            ]
          },
          "execution_count": 159,
          "metadata": {},
          "output_type": "execute_result"
        }
      ],
      "source": [
        "arr1 = np.array([[1, 2.0, 3.3],\n",
        "               [4, 5, 4.5]])\n",
        "arr1"
      ]
    },
    {
      "cell_type": "code",
      "execution_count": null,
      "metadata": {
        "id": "UEAX4uSRtX6y",
        "outputId": "ad7f2fa6-354a-47f5-df9e-7fd14a22efab"
      },
      "outputs": [
        {
          "data": {
            "text/plain": [
              "array([3.3, 5. ])"
            ]
          },
          "execution_count": 160,
          "metadata": {},
          "output_type": "execute_result"
        }
      ],
      "source": [
        "arr1.max(axis=1)"
      ]
    },
    {
      "cell_type": "code",
      "execution_count": null,
      "metadata": {
        "id": "la_EzXLVtX6y",
        "outputId": "84a42c9e-9089-4cc2-bea8-73ba6bd86389"
      },
      "outputs": [
        {
          "data": {
            "text/plain": [
              "(3, 5, 4)"
            ]
          },
          "execution_count": 170,
          "metadata": {},
          "output_type": "execute_result"
        }
      ],
      "source": [
        "arr2 = np.array([[[1, 2, 3, 4],\n",
        "                [4, 5, 6, 5],\n",
        "                [7, 8, 9, 6],\n",
        "                [7, 8, 9, 6],\n",
        "                [7, 8, 9, 6]],\n",
        "\n",
        "               [[10, 11, 12, 20],\n",
        "                [13, 14, 15, 30],\n",
        "                [16, 17, 18, 40],\n",
        "                [7, 8, 9, 6],\n",
        "                [7, 8, 9, 6]],\n",
        "\n",
        "               [[20, 21, 22, 120],\n",
        "                [23, 24, 25, 130],\n",
        "                [26, 27, 28, 140],\n",
        "                [7, 8, 9, 6],\n",
        "                [7, 8, 9, 6]]\n",
        "                ])\n",
        "arr2.shape #can be considered as an 5x4 image with R, G, and B channels.\n",
        "#axis-0 corresponds to the color channel, axis-1 corresponds to the rows of the image, axis-2 corresponds to the columns"
      ]
    },
    {
      "cell_type": "markdown",
      "metadata": {
        "id": "-Y-WrzettX6y"
      },
      "source": [
        "**Attributes:**\n",
        "NumPy arrays come with several important attributes that provide information about the array:\n",
        "\n",
        "- dtype: The data type of the array elements.\n",
        "- shape: A tuple representing the dimensions of the array.\n",
        "- ndim: The number of dimensions (axes) of the array.\n",
        "- size: The total number of elements in the array.\n",
        "- itemsize: The size in bytes of each element in the array."
      ]
    },
    {
      "cell_type": "code",
      "execution_count": null,
      "metadata": {
        "id": "E2lD4WG6tX6z",
        "outputId": "35846d88-6ec3-44a1-c6fe-14262bf52a66"
      },
      "outputs": [
        {
          "data": {
            "text/plain": [
              "array([1, 2, 3, 4], dtype=int32)"
            ]
          },
          "execution_count": 8,
          "metadata": {},
          "output_type": "execute_result"
        }
      ],
      "source": [
        "int_array"
      ]
    },
    {
      "cell_type": "code",
      "execution_count": null,
      "metadata": {
        "id": "uFEFkYJ-tX6z",
        "outputId": "fce15478-6e41-4c93-920a-aad9e97d9b43"
      },
      "outputs": [
        {
          "name": "stdout",
          "output_type": "stream",
          "text": [
            "Attributes of Integer Array:\n",
            "Data Type: int32\n",
            "Shape: (4,)\n",
            "Number of Dimensions: 1\n",
            "Total Number of Elements: 4\n",
            "Size of Each Element (in bytes): 4\n"
          ]
        }
      ],
      "source": [
        "print(\"Attributes of Integer Array:\")\n",
        "print(\"Data Type:\", int_array.dtype)\n",
        "print(\"Shape:\", int_array.shape)\n",
        "print(\"Number of Dimensions:\", int_array.ndim)\n",
        "print(\"Total Number of Elements:\", int_array.size)\n",
        "print(\"Size of Each Element (in bytes):\", int_array.itemsize)"
      ]
    },
    {
      "cell_type": "code",
      "execution_count": null,
      "metadata": {
        "id": "_p9LGL06tX6z",
        "outputId": "ee1ee673-6876-4716-a669-e67fe8b4000f"
      },
      "outputs": [
        {
          "data": {
            "text/plain": [
              "array([1.+2.j, 3.+4.j, 5.+6.j])"
            ]
          },
          "execution_count": 10,
          "metadata": {},
          "output_type": "execute_result"
        }
      ],
      "source": [
        "complex_array"
      ]
    },
    {
      "cell_type": "code",
      "execution_count": null,
      "metadata": {
        "id": "q8wxGYXAtX6z",
        "outputId": "b3769e3e-73ef-40b4-8fe6-10b86ef70af4"
      },
      "outputs": [
        {
          "name": "stdout",
          "output_type": "stream",
          "text": [
            "Attributes of complex Array:\n",
            "Data Type: complex128\n",
            "Shape: (3,)\n",
            "Number of Dimensions: 1\n",
            "Total Number of Elements: 3\n",
            "Size of Each Element (in bytes): 16\n"
          ]
        }
      ],
      "source": [
        "print(\"Attributes of complex Array:\")\n",
        "print(\"Data Type:\", complex_array.dtype)\n",
        "print(\"Shape:\", complex_array.shape)\n",
        "print(\"Number of Dimensions:\", complex_array.ndim)\n",
        "print(\"Total Number of Elements:\", complex_array.size)\n",
        "print(\"Size of Each Element (in bytes):\", complex_array.itemsize)"
      ]
    },
    {
      "cell_type": "code",
      "execution_count": null,
      "metadata": {
        "id": "2v9Pj9XXtX6z",
        "outputId": "65f4c340-4cff-497d-9981-a8bc138ff3a8"
      },
      "outputs": [
        {
          "data": {
            "text/plain": [
              "array([[[ 1,  2,  3],\n",
              "        [ 4,  5,  6],\n",
              "        [ 7,  8,  9]],\n",
              "\n",
              "       [[10, 11, 12],\n",
              "        [13, 14, 15],\n",
              "        [16, 17, 18]]])"
            ]
          },
          "execution_count": 12,
          "metadata": {},
          "output_type": "execute_result"
        }
      ],
      "source": [
        "arr2"
      ]
    },
    {
      "cell_type": "code",
      "execution_count": null,
      "metadata": {
        "id": "zYGrdYjwtX6z",
        "outputId": "1f82d23d-9e4f-420c-bf5c-2cf0bf834edc"
      },
      "outputs": [
        {
          "name": "stdout",
          "output_type": "stream",
          "text": [
            "Attributes of arr2 Array:\n",
            "Data Type: int64\n",
            "Shape: (2, 3, 3)\n",
            "Number of Dimensions: 3\n",
            "Total Number of Elements: 18\n",
            "Size of Each Element (in bytes): 8\n"
          ]
        }
      ],
      "source": [
        "print(\"Attributes of arr2 Array:\")\n",
        "print(\"Data Type:\", arr2.dtype)\n",
        "print(\"Shape:\", arr2.shape)\n",
        "print(\"Number of Dimensions:\", arr2.ndim)\n",
        "print(\"Total Number of Elements:\", arr2.size)\n",
        "print(\"Size of Each Element (in bytes):\", arr2.itemsize)"
      ]
    },
    {
      "cell_type": "code",
      "execution_count": null,
      "metadata": {
        "id": "b5yJwwKstX6z",
        "outputId": "7f00be2a-bb25-46bd-f71a-8370ac8acd7a"
      },
      "outputs": [
        {
          "name": "stdout",
          "output_type": "stream",
          "text": [
            "[[0. 0. 0.]\n",
            " [0. 0. 0.]]\n"
          ]
        }
      ],
      "source": [
        "# Creating a NumPy array of ones with shape (2, 3)\n",
        "ones = np.ones((2, 3))\n",
        "z = np.zeros(ones.shape)\n",
        "print(z)"
      ]
    },
    {
      "cell_type": "code",
      "execution_count": null,
      "metadata": {
        "id": "-sPCtU8VtX6z",
        "outputId": "9099c45b-f628-40b3-ab3d-81e2c69b7443"
      },
      "outputs": [
        {
          "data": {
            "text/plain": [
              "array([[1., 1., 1.],\n",
              "       [1., 1., 1.]])"
            ]
          },
          "execution_count": 174,
          "metadata": {},
          "output_type": "execute_result"
        }
      ],
      "source": [
        "ones"
      ]
    },
    {
      "cell_type": "code",
      "execution_count": null,
      "metadata": {
        "id": "yAKn34SLtX6z",
        "outputId": "5a7675d8-f889-4f34-89b0-a4f3e9adb654"
      },
      "outputs": [
        {
          "name": "stdout",
          "output_type": "stream",
          "text": [
            "Attributes of ones Array:\n",
            "Data Type: float64\n",
            "Shape: (2, 3)\n",
            "Number of Dimensions: 2\n",
            "Total Number of Elements: 6\n",
            "Size of Each Element (in bytes): 8\n"
          ]
        }
      ],
      "source": [
        "print(\"Attributes of ones Array:\")\n",
        "print(\"Data Type:\", ones.dtype)\n",
        "print(\"Shape:\", ones.shape)\n",
        "print(\"Number of Dimensions:\", ones.ndim)\n",
        "print(\"Total Number of Elements:\", ones.size)\n",
        "print(\"Size of Each Element (in bytes):\", ones.itemsize)"
      ]
    },
    {
      "cell_type": "code",
      "execution_count": null,
      "metadata": {
        "id": "tWQL6jOjtX6z"
      },
      "outputs": [],
      "source": [
        "# Creating a NumPy array of zeros with shape (2, 3)\n",
        "zeros = np.zeros((2, 3))"
      ]
    },
    {
      "cell_type": "code",
      "execution_count": null,
      "metadata": {
        "id": "d18tTJ9YtX60",
        "outputId": "72898353-71fa-4aae-97e8-662e4a42031b"
      },
      "outputs": [
        {
          "data": {
            "text/plain": [
              "array([[0., 0., 0.],\n",
              "       [0., 0., 0.]])"
            ]
          },
          "execution_count": 18,
          "metadata": {},
          "output_type": "execute_result"
        }
      ],
      "source": [
        "zeros"
      ]
    },
    {
      "cell_type": "code",
      "execution_count": null,
      "metadata": {
        "id": "FTTsLuc6tX60"
      },
      "outputs": [],
      "source": [
        "# Create a 2x3 array filled with the value 7\n",
        "full_array = np.full((2, 3), 7)"
      ]
    },
    {
      "cell_type": "code",
      "execution_count": null,
      "metadata": {
        "id": "-rdPCV2OtX60",
        "outputId": "163282b0-6476-40f1-9c7b-f5282de2364e"
      },
      "outputs": [
        {
          "name": "stdout",
          "output_type": "stream",
          "text": [
            "Full Array:\n",
            " [[7 7 7]\n",
            " [7 7 7]]\n"
          ]
        }
      ],
      "source": [
        "print(\"Full Array:\\n\", full_array)"
      ]
    },
    {
      "cell_type": "code",
      "execution_count": null,
      "metadata": {
        "id": "AvOSiHputX60"
      },
      "outputs": [],
      "source": [
        "# Create a 4x4 identity matrix\n",
        "identity_matrix = np.eye(4)"
      ]
    },
    {
      "cell_type": "code",
      "execution_count": null,
      "metadata": {
        "id": "Ze_fN9eQtX60",
        "outputId": "cfd0b7e3-e898-4a68-ec71-bb2647e7e9f8"
      },
      "outputs": [
        {
          "name": "stdout",
          "output_type": "stream",
          "text": [
            "Identity Matrix:\n",
            " [[1. 0. 0. 0.]\n",
            " [0. 1. 0. 0.]\n",
            " [0. 0. 1. 0.]\n",
            " [0. 0. 0. 1.]]\n"
          ]
        }
      ],
      "source": [
        "print(\"Identity Matrix:\\n\", identity_matrix)"
      ]
    },
    {
      "cell_type": "code",
      "execution_count": null,
      "metadata": {
        "id": "jgwt2XqBtX60"
      },
      "outputs": [],
      "source": [
        "# Create an array of 5 values evenly spaced between 0 and 10\n",
        "linspace_array = np.linspace(0, 10, 5)"
      ]
    },
    {
      "cell_type": "code",
      "execution_count": null,
      "metadata": {
        "id": "102u1uVNtX60",
        "outputId": "817ac9db-fd79-40fa-8a12-2ccd8624b81c"
      },
      "outputs": [
        {
          "name": "stdout",
          "output_type": "stream",
          "text": [
            "Linspace Array:\n",
            " [ 0.   2.5  5.   7.5 10. ]\n"
          ]
        }
      ],
      "source": [
        "print(\"Linspace Array:\\n\", linspace_array)"
      ]
    },
    {
      "cell_type": "code",
      "execution_count": null,
      "metadata": {
        "id": "fImXMOyltX60"
      },
      "outputs": [],
      "source": [
        "# Create an array of 10 values logarithmically spaced between 10^1 and 10^2\n",
        "logspace_array = np.logspace(1, 2, 10)"
      ]
    },
    {
      "cell_type": "code",
      "execution_count": null,
      "metadata": {
        "id": "V8iHdVuutX60",
        "outputId": "f783dd98-7d16-4efd-ec8d-97a0e9e6dc72"
      },
      "outputs": [
        {
          "name": "stdout",
          "output_type": "stream",
          "text": [
            "Logspace Array:\n",
            " [ 10.          12.91549665  16.68100537  21.5443469   27.82559402\n",
            "  35.93813664  46.41588834  59.94842503  77.42636827 100.        ]\n"
          ]
        }
      ],
      "source": [
        "print(\"Logspace Array:\\n\", logspace_array)"
      ]
    },
    {
      "cell_type": "code",
      "execution_count": null,
      "metadata": {
        "id": "dex8IwtntX60",
        "outputId": "e7967254-5d9a-45f3-a22e-9dad97865676"
      },
      "outputs": [
        {
          "data": {
            "text/plain": [
              "array([0, 2, 4, 6, 8])"
            ]
          },
          "execution_count": 27,
          "metadata": {},
          "output_type": "execute_result"
        }
      ],
      "source": [
        "range_array = np.arange(0, 10, 2)\n",
        "range_array"
      ]
    },
    {
      "cell_type": "markdown",
      "metadata": {
        "id": "9swIuhs8tX60"
      },
      "source": [
        "The NumPy `arange()` function is used to create an array with regularly spaced values within a specified range"
      ]
    },
    {
      "cell_type": "code",
      "execution_count": null,
      "metadata": {
        "id": "6x_JKjxAtX60",
        "outputId": "f0307801-73ab-4507-bb66-70adf0e5fbc8"
      },
      "outputs": [
        {
          "data": {
            "text/plain": [
              "array([[0, 2, 0, 5, 4],\n",
              "       [1, 3, 4, 2, 8],\n",
              "       [8, 2, 1, 1, 3]])"
            ]
          },
          "execution_count": 28,
          "metadata": {},
          "output_type": "execute_result"
        }
      ],
      "source": [
        "# Creating a 2D NumPy array with random integers\n",
        "random_array = np.random.randint(0, 10, size=(3, 5))\n",
        "random_array"
      ]
    },
    {
      "cell_type": "markdown",
      "metadata": {
        "id": "vsdMZhi1tX60"
      },
      "source": [
        "np.random.randint(low, high, size) generates random integers from `low` (inclusive) to `high` (exclusive).\n",
        "Here, it generates integers between 0 (inclusive) and 10 (exclusive).\n",
        "The `size` parameter specifies the shape of the array: 3 rows and 5 columns"
      ]
    },
    {
      "cell_type": "code",
      "execution_count": null,
      "metadata": {
        "id": "snFdTLjrtX61",
        "outputId": "d3d999fa-1be8-4b08-ddd3-6240963c940c"
      },
      "outputs": [
        {
          "data": {
            "text/plain": [
              "15"
            ]
          },
          "execution_count": 29,
          "metadata": {},
          "output_type": "execute_result"
        }
      ],
      "source": [
        "random_array.size"
      ]
    },
    {
      "cell_type": "code",
      "execution_count": null,
      "metadata": {
        "id": "E2ysWhpOtX61",
        "outputId": "1cc3053b-48eb-430c-ff8e-a03910d59b4b"
      },
      "outputs": [
        {
          "data": {
            "text/plain": [
              "(3, 5)"
            ]
          },
          "execution_count": 30,
          "metadata": {},
          "output_type": "execute_result"
        }
      ],
      "source": [
        "random_array.shape"
      ]
    },
    {
      "cell_type": "code",
      "execution_count": null,
      "metadata": {
        "id": "t2HyIgcItX61",
        "outputId": "292fc807-9512-40ef-e3a8-e379c796797a"
      },
      "outputs": [
        {
          "data": {
            "text/plain": [
              "array([[0.14190537, 0.30943822, 0.27964143],\n",
              "       [0.89820396, 0.41071374, 0.80434244],\n",
              "       [0.68430679, 0.27994753, 0.98416055],\n",
              "       [0.86538195, 0.40422957, 0.7115719 ],\n",
              "       [0.62773931, 0.49695176, 0.04404672]])"
            ]
          },
          "execution_count": 31,
          "metadata": {},
          "output_type": "execute_result"
        }
      ],
      "source": [
        "random_array_2 = np.random.random((5, 3))\n",
        "random_array_2"
      ]
    },
    {
      "cell_type": "code",
      "execution_count": null,
      "metadata": {
        "scrolled": true,
        "id": "aK4SN093tX66",
        "outputId": "17039a17-090e-462f-dcc9-a003f94ed0b5"
      },
      "outputs": [
        {
          "data": {
            "text/plain": [
              "array([[0.40967221, 0.0159694 , 0.37943603],\n",
              "       [0.38449895, 0.530017  , 0.36680467],\n",
              "       [0.21110978, 0.84704685, 0.43828059],\n",
              "       [0.55874765, 0.38087705, 0.72630842],\n",
              "       [0.9289018 , 0.96497392, 0.18119202]])"
            ]
          },
          "execution_count": 32,
          "metadata": {},
          "output_type": "execute_result"
        }
      ],
      "source": [
        "random_array_3 = np.random.rand(5, 3)\n",
        "random_array_3"
      ]
    },
    {
      "cell_type": "markdown",
      "metadata": {
        "id": "Yfe0uIdqtX66"
      },
      "source": [
        "👉: The main difference between `np.random.random()` and `np.random.rand()`\n",
        "lies in how they take input for specifying the shape of the output array.\n",
        "\n",
        " np.random.random() uses a single argument (a tuple or integers),\n",
        "while np.random.rand() takes individual integers as arguments.\n",
        "Both functions produce random numbers from a uniform distribution between 0 and 1."
      ]
    },
    {
      "cell_type": "markdown",
      "metadata": {
        "id": "C3sEh2sDtX66"
      },
      "source": [
        "Generating array using `np.random.seed` ⬇⬇"
      ]
    },
    {
      "cell_type": "code",
      "execution_count": null,
      "metadata": {
        "id": "kZ_SYlgKtX66",
        "outputId": "5b348a5a-2cbd-4734-b9a2-9efc94c111ce"
      },
      "outputs": [
        {
          "data": {
            "text/plain": [
              "array([[6, 4, 0],\n",
              "       [0, 2, 1],\n",
              "       [4, 9, 5],\n",
              "       [6, 3, 6],\n",
              "       [7, 0, 5]])"
            ]
          },
          "execution_count": 206,
          "metadata": {},
          "output_type": "execute_result"
        }
      ],
      "source": [
        "# Pseudo-random numbers\n",
        "np.random.seed(seed=42)\n",
        "random_array_4 = np.random.randint(10, size=(5, 3))\n",
        "random_array_4"
      ]
    },
    {
      "cell_type": "code",
      "execution_count": null,
      "metadata": {
        "id": "lomC86mQtX66",
        "outputId": "8c1e4855-a89a-46f2-f357-18d4825b59a2"
      },
      "outputs": [
        {
          "data": {
            "text/plain": [
              "array([[0.07630829, 0.77991879, 0.43840923],\n",
              "       [0.72346518, 0.97798951, 0.53849587],\n",
              "       [0.50112046, 0.07205113, 0.26843898],\n",
              "       [0.4998825 , 0.67923   , 0.80373904],\n",
              "       [0.38094113, 0.06593635, 0.2881456 ]])"
            ]
          },
          "execution_count": 34,
          "metadata": {},
          "output_type": "execute_result"
        }
      ],
      "source": [
        "np.random.seed(7)\n",
        "random_array_5 = np.random.random((5, 3))\n",
        "random_array_5"
      ]
    },
    {
      "cell_type": "code",
      "execution_count": null,
      "metadata": {
        "id": "x1E1thaltX66",
        "outputId": "ff6cc55d-059a-4391-8cc4-a0079c2573b8"
      },
      "outputs": [
        {
          "data": {
            "text/plain": [
              "array([[0.90959353, 0.21338535, 0.45212396],\n",
              "       [0.93120602, 0.02489923, 0.60054892],\n",
              "       [0.9501295 , 0.23030288, 0.54848992],\n",
              "       [0.90912837, 0.13316945, 0.52341258],\n",
              "       [0.75040986, 0.66901324, 0.46775286]])"
            ]
          },
          "execution_count": 35,
          "metadata": {},
          "output_type": "execute_result"
        }
      ],
      "source": [
        "random_array_5 = np.random.random((5, 3))\n",
        "random_array_5"
      ]
    },
    {
      "cell_type": "markdown",
      "metadata": {
        "id": "uUv9M8CxtX66"
      },
      "source": [
        "👉: `np.random.seed()` is a function in NumPy that is used to seed the random number generator. When you set a seed using `np.random.seed()`, you ensure that the random numbers generated by NumPy are reproducible. This means that if you set the same seed value, you will get the same sequence of random numbers every time you run your code.\n",
        "\n",
        "Setting a seed is particularly useful when you want to debug or test your code and need consistent results across runs. It ensures that random operations are deterministic within the same execution context"
      ]
    },
    {
      "cell_type": "markdown",
      "metadata": {
        "id": "zwNl7_zNtX66"
      },
      "source": [
        "## Indexing and Slicing"
      ]
    },
    {
      "cell_type": "code",
      "execution_count": null,
      "metadata": {
        "id": "VxVKDuK-tX66",
        "outputId": "f75716ff-3e8a-4958-de56-d39e1f6181c8"
      },
      "outputs": [
        {
          "name": "stdout",
          "output_type": "stream",
          "text": [
            "First three elements: [1 2 3]\n",
            "Elements from index 2 to 4: [3 4 5]\n",
            "Reversed array: [4 2]\n"
          ]
        }
      ],
      "source": [
        "# Indexing and Slicing\n",
        "sliced_array = np.array([1, 2, 3, 4, 5])\n",
        "print(\"First three elements:\", sliced_array[:3])\n",
        "print(\"Elements from index 2 to 4:\", sliced_array[2:5])\n",
        "print(\"Reversed array:\", sliced_array[-2::-2])"
      ]
    },
    {
      "cell_type": "markdown",
      "metadata": {
        "id": "w7vwGUuhtX66"
      },
      "source": [
        "## Linear algebra"
      ]
    },
    {
      "cell_type": "code",
      "execution_count": null,
      "metadata": {
        "id": "N7UqagIQtX66",
        "outputId": "04550ae3-4ce6-4bc3-9218-c29236be8082"
      },
      "outputs": [
        {
          "name": "stdout",
          "output_type": "stream",
          "text": [
            "Matrix:\n",
            " [[1 2]\n",
            " [3 4]]\n",
            "Inverse Matrix:\n",
            " [[-2.   1. ]\n",
            " [ 1.5 -0.5]]\n"
          ]
        }
      ],
      "source": [
        "# Linear algebra\n",
        "matrix = np.array([[1, 2], [3, 4]])\n",
        "inverse_matrix = np.linalg.inv(matrix)\n",
        "\n",
        "print(\"Matrix:\\n\", matrix)\n",
        "print(\"Inverse Matrix:\\n\", inverse_matrix)"
      ]
    },
    {
      "cell_type": "code",
      "execution_count": null,
      "metadata": {
        "id": "brNQjNkTtX66",
        "outputId": "f68abfe7-d3a7-418b-d03e-8f334da5a883"
      },
      "outputs": [
        {
          "name": "stdout",
          "output_type": "stream",
          "text": [
            "Determinant: -2.0000000000000004\n",
            "Eigenvalues: [-0.37228132  5.37228132]\n"
          ]
        }
      ],
      "source": [
        "determinant = np.linalg.det(matrix)\n",
        "eigenvalues, eigenvectors = np.linalg.eig(matrix)\n",
        "\n",
        "print(\"Determinant:\", determinant)\n",
        "print(\"Eigenvalues:\", eigenvalues)"
      ]
    },
    {
      "cell_type": "code",
      "execution_count": null,
      "metadata": {
        "id": "YFTUd1D7tX67",
        "outputId": "33509a34-2122-4194-f25a-13867e7e93d6"
      },
      "outputs": [
        {
          "name": "stdout",
          "output_type": "stream",
          "text": [
            "Eigenvectors:\n",
            " [[-0.82456484 -0.41597356]\n",
            " [ 0.56576746 -0.90937671]]\n"
          ]
        }
      ],
      "source": [
        "print(\"Eigenvectors:\\n\", eigenvectors)"
      ]
    },
    {
      "cell_type": "markdown",
      "metadata": {
        "id": "Fjzui2MbtX67"
      },
      "source": [
        "## Viewing arrays and matrices"
      ]
    },
    {
      "cell_type": "code",
      "execution_count": null,
      "metadata": {
        "id": "uh4MiJgrtX67",
        "outputId": "92df0666-9e03-4453-dcc5-d33597cf3add"
      },
      "outputs": [
        {
          "data": {
            "text/plain": [
              "array([2, 3, 4, 5, 6, 7, 9])"
            ]
          },
          "execution_count": 40,
          "metadata": {},
          "output_type": "execute_result"
        }
      ],
      "source": [
        "# Finding the unique elements in the NumPy array random_array_4\n",
        "np.unique(random_array_4)"
      ]
    },
    {
      "cell_type": "code",
      "execution_count": null,
      "metadata": {
        "id": "VLVfWRodtX67",
        "outputId": "d44b4c8e-03f4-42eb-d5c9-285a9a79cf02"
      },
      "outputs": [
        {
          "data": {
            "text/plain": [
              "array([[1. , 2. , 3.3],\n",
              "       [4. , 5. , 6.5]])"
            ]
          },
          "execution_count": 41,
          "metadata": {},
          "output_type": "execute_result"
        }
      ],
      "source": [
        "arr1"
      ]
    },
    {
      "cell_type": "code",
      "execution_count": null,
      "metadata": {
        "id": "9yNwWUrjtX67",
        "outputId": "37e99fa4-31db-428a-ea61-81e2a93be80a"
      },
      "outputs": [
        {
          "data": {
            "text/plain": [
              "array([[[ 1,  2,  3],\n",
              "        [ 4,  5,  6],\n",
              "        [ 7,  8,  9]],\n",
              "\n",
              "       [[10, 11, 12],\n",
              "        [13, 14, 15],\n",
              "        [16, 17, 18]]])"
            ]
          },
          "execution_count": 42,
          "metadata": {},
          "output_type": "execute_result"
        }
      ],
      "source": [
        "arr2"
      ]
    },
    {
      "cell_type": "code",
      "execution_count": null,
      "metadata": {
        "id": "sQJw0KustX67",
        "outputId": "3f26ec8e-6c0f-4e05-b58e-28561e1cf889"
      },
      "outputs": [
        {
          "data": {
            "text/plain": [
              "array([1. , 2. , 3.3])"
            ]
          },
          "execution_count": 43,
          "metadata": {},
          "output_type": "execute_result"
        }
      ],
      "source": [
        "arr1[0]"
      ]
    },
    {
      "cell_type": "code",
      "execution_count": null,
      "metadata": {
        "id": "noQF1YaEtX67",
        "outputId": "2e36032c-5508-4fe9-da1b-727fbcd307ef"
      },
      "outputs": [
        {
          "data": {
            "text/plain": [
              "array([[1, 2, 3],\n",
              "       [4, 5, 6],\n",
              "       [7, 8, 9]])"
            ]
          },
          "execution_count": 44,
          "metadata": {},
          "output_type": "execute_result"
        }
      ],
      "source": [
        "arr2[0]"
      ]
    },
    {
      "cell_type": "code",
      "execution_count": null,
      "metadata": {
        "id": "o8cksFrNtX67",
        "outputId": "ac7eee8b-2a22-49dd-90be-53ce310f5df9"
      },
      "outputs": [
        {
          "data": {
            "text/plain": [
              "array([4. , 5. , 6.5])"
            ]
          },
          "execution_count": 45,
          "metadata": {},
          "output_type": "execute_result"
        }
      ],
      "source": [
        "arr1[1]"
      ]
    },
    {
      "cell_type": "code",
      "execution_count": null,
      "metadata": {
        "id": "64e-XrdXtX67",
        "outputId": "475d57d9-b341-4afd-bb92-ca5d339f6be1"
      },
      "outputs": [
        {
          "data": {
            "text/plain": [
              "array([[[ 1,  2],\n",
              "        [ 4,  5]],\n",
              "\n",
              "       [[10, 11],\n",
              "        [13, 14]]])"
            ]
          },
          "execution_count": 46,
          "metadata": {},
          "output_type": "execute_result"
        }
      ],
      "source": [
        "arr2[:2, :2, :2]"
      ]
    },
    {
      "cell_type": "code",
      "execution_count": null,
      "metadata": {
        "id": "-jNSXEOwtX67",
        "outputId": "de9f7739-1ff3-416f-b22e-b84b200342a6"
      },
      "outputs": [
        {
          "data": {
            "text/plain": [
              "array([[[[5, 4, 4, 4, 2],\n",
              "         [1, 3, 0, 5, 4],\n",
              "         [0, 5, 4, 3, 1],\n",
              "         [3, 3, 3, 1, 3]],\n",
              "\n",
              "        [[3, 4, 3, 1, 3],\n",
              "         [1, 5, 1, 5, 1],\n",
              "         [2, 3, 2, 2, 5],\n",
              "         [3, 3, 2, 0, 4]],\n",
              "\n",
              "        [[5, 3, 1, 1, 4],\n",
              "         [3, 4, 4, 5, 4],\n",
              "         [3, 3, 0, 4, 3],\n",
              "         [0, 2, 2, 3, 5]]],\n",
              "\n",
              "\n",
              "       [[[2, 3, 5, 4, 4],\n",
              "         [5, 0, 5, 5, 4],\n",
              "         [3, 1, 2, 5, 4],\n",
              "         [4, 1, 1, 5, 2]],\n",
              "\n",
              "        [[0, 4, 2, 4, 0],\n",
              "         [2, 3, 2, 4, 1],\n",
              "         [5, 2, 1, 5, 1],\n",
              "         [4, 1, 0, 4, 5]],\n",
              "\n",
              "        [[1, 5, 4, 3, 4],\n",
              "         [1, 3, 0, 1, 5],\n",
              "         [5, 3, 4, 0, 3],\n",
              "         [1, 4, 4, 5, 4]]]])"
            ]
          },
          "execution_count": 47,
          "metadata": {},
          "output_type": "execute_result"
        }
      ],
      "source": [
        "arr3 = np.random.randint(6, size=(2, 3, 4, 5))\n",
        "arr3"
      ]
    },
    {
      "cell_type": "code",
      "execution_count": null,
      "metadata": {
        "id": "2J-Rr2uetX67",
        "outputId": "43228a5d-f02c-4528-fd3b-26439d00de05"
      },
      "outputs": [
        {
          "data": {
            "text/plain": [
              "((2, 3, 4, 5), 4)"
            ]
          },
          "execution_count": 48,
          "metadata": {},
          "output_type": "execute_result"
        }
      ],
      "source": [
        "arr3.shape, arr3.ndim"
      ]
    },
    {
      "cell_type": "code",
      "execution_count": null,
      "metadata": {
        "id": "yaphDnTStX67",
        "outputId": "3bd8e8f3-b9ff-4bbe-a970-5fec2f93f7c2"
      },
      "outputs": [
        {
          "data": {
            "text/plain": [
              "array([[[[5],\n",
              "         [1],\n",
              "         [0],\n",
              "         [3]],\n",
              "\n",
              "        [[3],\n",
              "         [1],\n",
              "         [2],\n",
              "         [3]],\n",
              "\n",
              "        [[5],\n",
              "         [3],\n",
              "         [3],\n",
              "         [0]]],\n",
              "\n",
              "\n",
              "       [[[2],\n",
              "         [5],\n",
              "         [3],\n",
              "         [4]],\n",
              "\n",
              "        [[0],\n",
              "         [2],\n",
              "         [5],\n",
              "         [4]],\n",
              "\n",
              "        [[1],\n",
              "         [1],\n",
              "         [5],\n",
              "         [1]]]])"
            ]
          },
          "execution_count": 49,
          "metadata": {},
          "output_type": "execute_result"
        }
      ],
      "source": [
        "# Get the first 4 numbers of the inner most arrays\n",
        "arr3[:, :, :, :1]"
      ]
    },
    {
      "cell_type": "markdown",
      "metadata": {
        "id": "rVosxWLhtX68"
      },
      "source": [
        "## Manipulating & comparing arrays"
      ]
    },
    {
      "cell_type": "markdown",
      "metadata": {
        "id": "1C57cPmRtX68"
      },
      "source": [
        "### Arithmetic"
      ]
    },
    {
      "cell_type": "code",
      "execution_count": null,
      "metadata": {
        "id": "t8FfdxMBtX68",
        "outputId": "69b9e36b-bf17-40b3-a688-b213846abe14"
      },
      "outputs": [
        {
          "name": "stdout",
          "output_type": "stream",
          "text": [
            "<class 'tuple'>\n"
          ]
        }
      ],
      "source": [
        "z=(3,)\n",
        "print(type(z))"
      ]
    },
    {
      "cell_type": "code",
      "execution_count": null,
      "metadata": {
        "id": "FBbhZtEStX68",
        "outputId": "7eb1e7c7-fbd4-479e-e787-7fb4e243e118"
      },
      "outputs": [
        {
          "data": {
            "text/plain": [
              "array([[1. , 2. , 3.3],\n",
              "       [4. , 5. , 4.5]])"
            ]
          },
          "execution_count": 225,
          "metadata": {},
          "output_type": "execute_result"
        }
      ],
      "source": [
        "arr1"
      ]
    },
    {
      "cell_type": "code",
      "execution_count": null,
      "metadata": {
        "id": "m7nuWgEztX68",
        "outputId": "9ff037b8-1397-4c59-f390-081dd4070090"
      },
      "outputs": [
        {
          "data": {
            "text/plain": [
              "(3,)"
            ]
          },
          "execution_count": 226,
          "metadata": {},
          "output_type": "execute_result"
        }
      ],
      "source": [
        "ones = np.array([1,2,3])\n",
        "ones.shape"
      ]
    },
    {
      "cell_type": "code",
      "execution_count": null,
      "metadata": {
        "id": "pcvsajnLtX68",
        "outputId": "8e7a7a4f-51a0-49aa-aafb-4c522547fa76"
      },
      "outputs": [
        {
          "data": {
            "text/plain": [
              "array([[ 1.,  2.,  3.],\n",
              "       [11., 12., 13.],\n",
              "       [21., 22., 23.],\n",
              "       [31., 32., 33.]])"
            ]
          },
          "execution_count": 239,
          "metadata": {},
          "output_type": "execute_result"
        }
      ],
      "source": [
        "# https://numpy.org/doc/stable/user/basics.broadcasting.html\n",
        "\n",
        "#a = np.array([[0.0], [10.0], [20.0], [30.0]])\n",
        "\n",
        "a = np.array([0.0, 10.0, 20.0, 30.0])\n",
        "\n",
        "a = a[:, np.newaxis]\n",
        "a = a.reshape(-1,1)\n",
        "\n",
        "b = np.array([1.0, 2.0, 3.0])\n",
        "a+b"
      ]
    },
    {
      "cell_type": "code",
      "execution_count": null,
      "metadata": {
        "id": "BbmqQQOHtX68",
        "outputId": "b729edc8-0c9a-4e59-83e9-3da0971ca716"
      },
      "outputs": [
        {
          "data": {
            "text/plain": [
              "array([[2. , 4. , 6.3],\n",
              "       [5. , 7. , 7.5]])"
            ]
          },
          "execution_count": 227,
          "metadata": {},
          "output_type": "execute_result"
        }
      ],
      "source": [
        "arr1 + ones"
      ]
    },
    {
      "cell_type": "code",
      "execution_count": null,
      "metadata": {
        "id": "kD9k1fdgtX68",
        "outputId": "2c60f441-a574-41ed-9818-b20c9c55729e"
      },
      "outputs": [
        {
          "data": {
            "text/plain": [
              "array([[0. , 1. , 2.3],\n",
              "       [3. , 4. , 5.5]])"
            ]
          },
          "execution_count": 53,
          "metadata": {},
          "output_type": "execute_result"
        }
      ],
      "source": [
        "arr1 - ones"
      ]
    },
    {
      "cell_type": "code",
      "execution_count": null,
      "metadata": {
        "id": "rEx_ekfwtX68",
        "outputId": "6a039ffe-76d0-4222-cb6e-589a9b6aecb6"
      },
      "outputs": [
        {
          "data": {
            "text/plain": [
              "array([[1. , 2. , 3.3],\n",
              "       [4. , 5. , 6.5]])"
            ]
          },
          "execution_count": 54,
          "metadata": {},
          "output_type": "execute_result"
        }
      ],
      "source": [
        "arr1 * ones"
      ]
    },
    {
      "cell_type": "code",
      "execution_count": null,
      "metadata": {
        "id": "tEfGKxQftX68",
        "outputId": "be8ba428-d6fd-4092-c718-965c50f06ca8"
      },
      "outputs": [
        {
          "data": {
            "text/plain": [
              "array([[1. , 2. , 3.3],\n",
              "       [4. , 5. , 6.5]])"
            ]
          },
          "execution_count": 55,
          "metadata": {},
          "output_type": "execute_result"
        }
      ],
      "source": [
        "arr1"
      ]
    },
    {
      "cell_type": "code",
      "execution_count": null,
      "metadata": {
        "id": "o0rhY5hGtX68",
        "outputId": "900a1461-1689-441e-838a-a7b91cdbabfe"
      },
      "outputs": [
        {
          "data": {
            "text/plain": [
              "array([[[ 1,  2,  3],\n",
              "        [ 4,  5,  6],\n",
              "        [ 7,  8,  9]],\n",
              "\n",
              "       [[10, 11, 12],\n",
              "        [13, 14, 15],\n",
              "        [16, 17, 18]]])"
            ]
          },
          "execution_count": 56,
          "metadata": {},
          "output_type": "execute_result"
        }
      ],
      "source": [
        "arr2"
      ]
    },
    {
      "cell_type": "code",
      "execution_count": null,
      "metadata": {
        "id": "68QxTTmYtX68",
        "outputId": "e3d1b5eb-9714-4676-c094-00c310407cce"
      },
      "outputs": [
        {
          "data": {
            "text/plain": [
              "array([[[ 1,  2,  3],\n",
              "        [ 4,  5,  6],\n",
              "        [ 7,  8,  9]],\n",
              "\n",
              "       [[10, 11, 12],\n",
              "        [13, 14, 15],\n",
              "        [16, 17, 18]]])"
            ]
          },
          "execution_count": 57,
          "metadata": {},
          "output_type": "execute_result"
        }
      ],
      "source": [
        "arr2"
      ]
    },
    {
      "cell_type": "code",
      "execution_count": null,
      "metadata": {
        "id": "bUAoIFMStX68",
        "outputId": "90d062e4-7870-45ec-de88-70b5cf8244cc"
      },
      "outputs": [
        {
          "data": {
            "text/plain": [
              "array([[1. , 2. , 3.3],\n",
              "       [4. , 5. , 6.5]])"
            ]
          },
          "execution_count": 58,
          "metadata": {},
          "output_type": "execute_result"
        }
      ],
      "source": [
        "arr1 / ones"
      ]
    },
    {
      "cell_type": "code",
      "execution_count": null,
      "metadata": {
        "id": "lc7rsAtetX69"
      },
      "outputs": [],
      "source": [
        "arr3 = np.array([7,4,2])"
      ]
    },
    {
      "cell_type": "code",
      "execution_count": null,
      "metadata": {
        "id": "HDZcI-nitX69",
        "outputId": "bcdf1381-3cf1-4fc4-b2d8-543034dc32cb"
      },
      "outputs": [
        {
          "data": {
            "text/plain": [
              "array([[0., 0., 1.],\n",
              "       [0., 1., 3.]])"
            ]
          },
          "execution_count": 60,
          "metadata": {},
          "output_type": "execute_result"
        }
      ],
      "source": [
        "# Floor division removes the decimals (rounds down)\n",
        "arr1 // arr3"
      ]
    },
    {
      "cell_type": "code",
      "execution_count": null,
      "metadata": {
        "id": "X7hDCkuotX69",
        "outputId": "5f1824da-9f9a-4a48-dbc8-78f398f8dd01"
      },
      "outputs": [
        {
          "data": {
            "text/plain": [
              "array([[1. , 2. , 3.3],\n",
              "       [4. , 5. , 6.5]])"
            ]
          },
          "execution_count": 61,
          "metadata": {},
          "output_type": "execute_result"
        }
      ],
      "source": [
        "arr1"
      ]
    },
    {
      "cell_type": "code",
      "execution_count": null,
      "metadata": {
        "id": "yKVQ0pc8tX69",
        "outputId": "b8accb54-8cb1-402d-cdbc-46289b5db42a"
      },
      "outputs": [
        {
          "data": {
            "text/plain": [
              "array([[ 1.  ,  4.  , 10.89],\n",
              "       [16.  , 25.  , 42.25]])"
            ]
          },
          "execution_count": 62,
          "metadata": {},
          "output_type": "execute_result"
        }
      ],
      "source": [
        "arr1 ** 2"
      ]
    },
    {
      "cell_type": "code",
      "execution_count": null,
      "metadata": {
        "id": "fG3QylNVtX69",
        "outputId": "60b5ab25-ce40-4922-d606-bc5e045145b4"
      },
      "outputs": [
        {
          "data": {
            "text/plain": [
              "array([[ 1.  ,  4.  , 10.89],\n",
              "       [16.  , 25.  , 42.25]])"
            ]
          },
          "execution_count": 63,
          "metadata": {},
          "output_type": "execute_result"
        }
      ],
      "source": [
        "np.square(arr1)"
      ]
    },
    {
      "cell_type": "code",
      "execution_count": null,
      "metadata": {
        "id": "T_1V2GWUtX69",
        "outputId": "e0363649-a3fc-41d1-ddef-d5cdcec842cd"
      },
      "outputs": [
        {
          "data": {
            "text/plain": [
              "array([8., 5., 3.])"
            ]
          },
          "execution_count": 64,
          "metadata": {},
          "output_type": "execute_result"
        }
      ],
      "source": [
        "arr3 + ones"
      ]
    },
    {
      "cell_type": "code",
      "execution_count": null,
      "metadata": {
        "id": "AGR334LVtX69",
        "outputId": "47ad6447-4583-419f-e41f-b382dbd37a79"
      },
      "outputs": [
        {
          "data": {
            "text/plain": [
              "array([8., 5., 3.])"
            ]
          },
          "execution_count": 65,
          "metadata": {},
          "output_type": "execute_result"
        }
      ],
      "source": [
        "np.add(arr3, ones)"
      ]
    },
    {
      "cell_type": "code",
      "execution_count": null,
      "metadata": {
        "id": "orwrBy9FtX69",
        "outputId": "64a73382-89d4-4db8-feba-969c54e2af6d"
      },
      "outputs": [
        {
          "data": {
            "text/plain": [
              "array([1, 0, 0])"
            ]
          },
          "execution_count": 66,
          "metadata": {},
          "output_type": "execute_result"
        }
      ],
      "source": [
        "arr3 % 2"
      ]
    },
    {
      "cell_type": "code",
      "execution_count": null,
      "metadata": {
        "id": "PCUlH6G6tX69",
        "outputId": "5bfe4fb8-edc4-489a-df3c-ad6b29aa2eaf"
      },
      "outputs": [
        {
          "data": {
            "text/plain": [
              "array([3.5, 2. , 1. ])"
            ]
          },
          "execution_count": 67,
          "metadata": {},
          "output_type": "execute_result"
        }
      ],
      "source": [
        "arr3 / 2"
      ]
    },
    {
      "cell_type": "code",
      "execution_count": null,
      "metadata": {
        "id": "zPfa_MKstX69",
        "outputId": "b3c88c10-cf64-4d1b-987e-3b0fd000a312"
      },
      "outputs": [
        {
          "data": {
            "text/plain": [
              "array([[1. , 0. , 1.3],\n",
              "       [0. , 1. , 0.5]])"
            ]
          },
          "execution_count": 68,
          "metadata": {},
          "output_type": "execute_result"
        }
      ],
      "source": [
        "arr1 % 2"
      ]
    },
    {
      "cell_type": "code",
      "execution_count": null,
      "metadata": {
        "id": "VMGWZ-BytX69",
        "outputId": "b2ff5247-1e6c-4ceb-c687-5f102eb18182"
      },
      "outputs": [
        {
          "data": {
            "text/plain": [
              "array([1096.63315843,   54.59815003,    7.3890561 ])"
            ]
          },
          "execution_count": 69,
          "metadata": {},
          "output_type": "execute_result"
        }
      ],
      "source": [
        "np.exp(arr3)"
      ]
    },
    {
      "cell_type": "code",
      "execution_count": null,
      "metadata": {
        "id": "m7SvdQIQtX69",
        "outputId": "4d05a977-604a-4d9c-8199-9ba3679342f1"
      },
      "outputs": [
        {
          "data": {
            "text/plain": [
              "array([1.94591015, 1.38629436, 0.69314718])"
            ]
          },
          "execution_count": 70,
          "metadata": {},
          "output_type": "execute_result"
        }
      ],
      "source": [
        "np.log(arr3)"
      ]
    },
    {
      "cell_type": "markdown",
      "metadata": {
        "id": "UjeE057DtX69"
      },
      "source": [
        "**Aggregation:**\n",
        "\n",
        "Aggregation refers to the process of combining multiple values into a single value. In data analysis and statistics, aggregation typically involves summarizing or condensing large datasets into more manageable and understandable forms.\n",
        "\n",
        "Common aggregation functions include:\n",
        "\n",
        "- Sum: Adding up all the values in a dataset.\n",
        "- Mean (Average): Calculating the average value of the dataset.\n",
        "- Minimum: Determining the smallest value in the dataset.\n",
        "- Maximum: Identifying the largest value in the dataset.\n",
        "- Count: Counting the number of observations in the dataset.\n",
        "- Standard Deviation: Measuring the dispersion or variability of the dataset from the mean.\n",
        "- Variance: Calculating the average of the squared differences from the mean."
      ]
    },
    {
      "cell_type": "code",
      "execution_count": null,
      "metadata": {
        "id": "FxaY6ipKtX69",
        "outputId": "449ee6d4-fc4b-4339-a431-e34c3783c738"
      },
      "outputs": [
        {
          "data": {
            "text/plain": [
              "list"
            ]
          },
          "execution_count": 71,
          "metadata": {},
          "output_type": "execute_result"
        }
      ],
      "source": [
        "l_list = [5, 7, 3]\n",
        "type(l_list)"
      ]
    },
    {
      "cell_type": "code",
      "execution_count": null,
      "metadata": {
        "id": "CURUCBvItX6-",
        "outputId": "a626a5b0-add7-4fd7-d514-ec81f366cbbc"
      },
      "outputs": [
        {
          "data": {
            "text/plain": [
              "15"
            ]
          },
          "execution_count": 72,
          "metadata": {},
          "output_type": "execute_result"
        }
      ],
      "source": [
        "sum(l_list)"
      ]
    },
    {
      "cell_type": "code",
      "execution_count": null,
      "metadata": {
        "id": "xutLbETgtX6-",
        "outputId": "50c57389-f301-4da8-8f9d-8971f0077e60"
      },
      "outputs": [
        {
          "data": {
            "text/plain": [
              "array([7, 4, 2])"
            ]
          },
          "execution_count": 73,
          "metadata": {},
          "output_type": "execute_result"
        }
      ],
      "source": [
        "arr3"
      ]
    },
    {
      "cell_type": "code",
      "execution_count": null,
      "metadata": {
        "id": "aQe2R5QOtX6-",
        "outputId": "0d6d1280-ece0-4a41-f292-9181429f749d"
      },
      "outputs": [
        {
          "data": {
            "text/plain": [
              "13"
            ]
          },
          "execution_count": 74,
          "metadata": {},
          "output_type": "execute_result"
        }
      ],
      "source": [
        "sum(arr3)"
      ]
    },
    {
      "cell_type": "code",
      "execution_count": null,
      "metadata": {
        "id": "ftMNQWTYtX6-",
        "outputId": "494195f9-6941-4466-de5d-1d5bf71b4462"
      },
      "outputs": [
        {
          "data": {
            "text/plain": [
              "13"
            ]
          },
          "execution_count": 75,
          "metadata": {},
          "output_type": "execute_result"
        }
      ],
      "source": [
        "np.sum(arr3)"
      ]
    },
    {
      "cell_type": "markdown",
      "metadata": {
        "id": "2IKJiOD-tX6-"
      },
      "source": [
        "Use Python's methods (`sum()`) on Python datatypes and use NumPy's methods on NumPy arrays (`np.sum()`)."
      ]
    },
    {
      "cell_type": "code",
      "execution_count": null,
      "metadata": {
        "id": "myfMP31NtX6-",
        "outputId": "1de47b33-47d8-4dd2-b65f-a0482a3b5fa7"
      },
      "outputs": [
        {
          "data": {
            "text/plain": [
              "1000"
            ]
          },
          "execution_count": 76,
          "metadata": {},
          "output_type": "execute_result"
        }
      ],
      "source": [
        "# Creative a big NumPy array\n",
        "big_array = np.random.random(1000)\n",
        "big_array.size"
      ]
    },
    {
      "cell_type": "code",
      "execution_count": null,
      "metadata": {
        "id": "ogyFdh58tX6-",
        "outputId": "0462ad7e-9258-4310-a3b9-751911653dac"
      },
      "outputs": [
        {
          "data": {
            "text/plain": [
              "array([0.39200156, 0.93959276, 0.21291858, 0.81329627, 0.40364858,\n",
              "       0.58672092, 0.18599889, 0.81232251, 0.58084741, 0.44693254])"
            ]
          },
          "execution_count": 77,
          "metadata": {},
          "output_type": "execute_result"
        }
      ],
      "source": [
        "big_array[:10]"
      ]
    },
    {
      "cell_type": "code",
      "execution_count": null,
      "metadata": {
        "id": "29JQ8bCOtX6-",
        "outputId": "c35070d6-3aec-42d7-e3a5-0491d5ae6616"
      },
      "outputs": [
        {
          "name": "stdout",
          "output_type": "stream",
          "text": [
            "34 µs ± 47.4 ns per loop (mean ± std. dev. of 7 runs, 10,000 loops each)\n",
            "1.37 µs ± 3.87 ns per loop (mean ± std. dev. of 7 runs, 1,000,000 loops each)\n"
          ]
        }
      ],
      "source": [
        "%timeit sum(big_array) # Python's sum()\n",
        "%timeit np.sum(big_array) # NumPy's np.sum()"
      ]
    },
    {
      "cell_type": "code",
      "execution_count": null,
      "metadata": {
        "id": "9O7uMURatX6-",
        "outputId": "aa6587c6-5e18-4557-90ee-c4da56f63823"
      },
      "outputs": [
        {
          "data": {
            "text/plain": [
              "array([[1. , 2. , 3.3],\n",
              "       [4. , 5. , 6.5]])"
            ]
          },
          "execution_count": 79,
          "metadata": {},
          "output_type": "execute_result"
        }
      ],
      "source": [
        "arr1"
      ]
    },
    {
      "cell_type": "code",
      "execution_count": null,
      "metadata": {
        "id": "c7ZLpe4ktX6-",
        "outputId": "a10ba844-0f18-4931-81a5-a197a09c168c"
      },
      "outputs": [
        {
          "data": {
            "text/plain": [
              "3.6333333333333333"
            ]
          },
          "execution_count": 80,
          "metadata": {},
          "output_type": "execute_result"
        }
      ],
      "source": [
        "np.mean(arr1)"
      ]
    },
    {
      "cell_type": "code",
      "execution_count": null,
      "metadata": {
        "id": "e2p2W5nztX6-",
        "outputId": "b045b57a-48d9-416f-e74b-f8cc609ccd57"
      },
      "outputs": [
        {
          "data": {
            "text/plain": [
              "6.5"
            ]
          },
          "execution_count": 81,
          "metadata": {},
          "output_type": "execute_result"
        }
      ],
      "source": [
        "np.max(arr1)"
      ]
    },
    {
      "cell_type": "code",
      "execution_count": null,
      "metadata": {
        "id": "8_u1c95stX6-",
        "outputId": "7f9f35e5-55f6-4f96-c9dc-7b97576745b4"
      },
      "outputs": [
        {
          "data": {
            "text/plain": [
              "1.0"
            ]
          },
          "execution_count": 82,
          "metadata": {},
          "output_type": "execute_result"
        }
      ],
      "source": [
        "np.min(arr1)"
      ]
    },
    {
      "cell_type": "markdown",
      "metadata": {
        "id": "GPws2uTqtX6-"
      },
      "source": [
        "**Variance :**\n",
        "\n",
        "Variance is a measure of how much the values in a dataset vary from the mean (average) of the dataset.\n",
        "\n",
        "**Standard deviation :**\n",
        "\n",
        "Standard deviation is another measure of the dispersion of values in a dataset. It is the square root of the variance.\n",
        "Standard deviation provides a measure of how spread out the values in the dataset are from the mean."
      ]
    },
    {
      "cell_type": "code",
      "execution_count": null,
      "metadata": {
        "id": "cdRf04gWtX6-",
        "outputId": "ca339815-1ed7-446b-cdbe-b9fc9aa0907a"
      },
      "outputs": [
        {
          "data": {
            "text/plain": [
              "array([[1. , 2. , 3.3],\n",
              "       [4. , 5. , 6.5]])"
            ]
          },
          "execution_count": 83,
          "metadata": {},
          "output_type": "execute_result"
        }
      ],
      "source": [
        "arr1"
      ]
    },
    {
      "cell_type": "code",
      "execution_count": null,
      "metadata": {
        "id": "R_gBi-9ctX6_",
        "outputId": "9c6d282a-fbb9-4b21-9e7a-64040d9eccd6"
      },
      "outputs": [
        {
          "data": {
            "text/plain": [
              "1.8226964152656422"
            ]
          },
          "execution_count": 84,
          "metadata": {},
          "output_type": "execute_result"
        }
      ],
      "source": [
        "np.std(arr1)"
      ]
    },
    {
      "cell_type": "code",
      "execution_count": null,
      "metadata": {
        "scrolled": true,
        "id": "Elc5OTXEtX6_",
        "outputId": "7ae84a1a-c52f-4480-f8b3-99ab52f090c4"
      },
      "outputs": [
        {
          "data": {
            "text/plain": [
              "3.3222222222222224"
            ]
          },
          "execution_count": 85,
          "metadata": {},
          "output_type": "execute_result"
        }
      ],
      "source": [
        "np.var(arr1)"
      ]
    },
    {
      "cell_type": "code",
      "execution_count": null,
      "metadata": {
        "id": "7sZh0BxntX6_",
        "outputId": "a8c86d13-f2d1-48c8-94f0-155161e42eb9"
      },
      "outputs": [
        {
          "data": {
            "text/plain": [
              "1.8226964152656422"
            ]
          },
          "execution_count": 86,
          "metadata": {},
          "output_type": "execute_result"
        }
      ],
      "source": [
        "# Standard deviation = squareroot of variance\n",
        "np.sqrt(np.var(arr1))"
      ]
    },
    {
      "cell_type": "code",
      "execution_count": null,
      "metadata": {
        "id": "1oXqtoPatX6_"
      },
      "outputs": [],
      "source": [
        "# Demo of std and var\n",
        "high_variance_arr = np.array([1, 100, 200, 300, 4000, 5000])\n",
        "low_variance_arr = np.array([2, 4, 6, 8, 10])"
      ]
    },
    {
      "cell_type": "code",
      "execution_count": null,
      "metadata": {
        "id": "n1eAEDhgtX6_",
        "outputId": "6cb0a334-03c6-476e-cbe7-6d049bf31db1"
      },
      "outputs": [
        {
          "data": {
            "text/plain": [
              "(4296133.472222221, 8.0)"
            ]
          },
          "execution_count": 88,
          "metadata": {},
          "output_type": "execute_result"
        }
      ],
      "source": [
        "np.var(high_variance_arr), np.var(low_variance_arr)"
      ]
    },
    {
      "cell_type": "code",
      "execution_count": null,
      "metadata": {
        "id": "xHFgM02ctX6_",
        "outputId": "a3665143-e95a-4f07-a080-555ad5ba61fd"
      },
      "outputs": [
        {
          "data": {
            "text/plain": [
              "(2072.711623024829, 2.8284271247461903)"
            ]
          },
          "execution_count": 89,
          "metadata": {},
          "output_type": "execute_result"
        }
      ],
      "source": [
        "np.std(high_variance_arr), np.std(low_variance_arr)"
      ]
    },
    {
      "cell_type": "code",
      "execution_count": null,
      "metadata": {
        "id": "K0e8BMq_tX6_",
        "outputId": "4b8a1776-3c80-46ae-9b4d-301a9fc3d4d2"
      },
      "outputs": [
        {
          "data": {
            "text/plain": [
              "(1600.1666666666667, 6.0)"
            ]
          },
          "execution_count": 90,
          "metadata": {},
          "output_type": "execute_result"
        }
      ],
      "source": [
        "np.mean(high_variance_arr), np.mean(low_variance_arr)"
      ]
    },
    {
      "cell_type": "code",
      "execution_count": null,
      "metadata": {
        "id": "982J1En3tX6_",
        "outputId": "eabc753f-ebc2-4ce1-a70e-b073704fc291"
      },
      "outputs": [
        {
          "data": {
            "image/png": "[encoded data removed]",
            "text/plain": [
              "<Figure size 640x480 with 1 Axes>"
            ]
          },
          "metadata": {},
          "output_type": "display_data"
        }
      ],
      "source": [
        "%matplotlib inline\n",
        "import matplotlib.pyplot as plt\n",
        "plt.hist(high_variance_arr)\n",
        "plt.show()"
      ]
    },
    {
      "cell_type": "code",
      "execution_count": null,
      "metadata": {
        "id": "tXaXawkutX6_",
        "outputId": "66111afb-6a1f-4016-ea86-b51d5b1a0091"
      },
      "outputs": [
        {
          "data": {
            "image/png": "[encoded data removed]",
            "text/plain": [
              "<Figure size 640x480 with 1 Axes>"
            ]
          },
          "metadata": {},
          "output_type": "display_data"
        }
      ],
      "source": [
        "plt.hist(low_variance_arr)\n",
        "plt.show()"
      ]
    },
    {
      "cell_type": "markdown",
      "metadata": {
        "id": "BEargIRVtX6_"
      },
      "source": [
        "### Reshape & transpose"
      ]
    },
    {
      "cell_type": "code",
      "execution_count": null,
      "metadata": {
        "id": "0jZ-ylkGtX6_",
        "outputId": "efb5a8dc-ad46-4c6f-ff32-f5c09fbb249d"
      },
      "outputs": [
        {
          "data": {
            "text/plain": [
              "array([[1. , 2. , 3.3],\n",
              "       [4. , 5. , 6.5]])"
            ]
          },
          "execution_count": 93,
          "metadata": {},
          "output_type": "execute_result"
        }
      ],
      "source": [
        "arr1"
      ]
    },
    {
      "cell_type": "code",
      "execution_count": null,
      "metadata": {
        "id": "YkgP150OtX6_",
        "outputId": "7f7cb6d9-74c7-47dd-db5a-3df35b6aef73"
      },
      "outputs": [
        {
          "data": {
            "text/plain": [
              "(2, 3)"
            ]
          },
          "execution_count": 94,
          "metadata": {},
          "output_type": "execute_result"
        }
      ],
      "source": [
        "arr1.shape"
      ]
    },
    {
      "cell_type": "code",
      "execution_count": null,
      "metadata": {
        "id": "LaenE04ftX6_",
        "outputId": "ed7626f6-5ed5-4cf0-f2d1-28b5c282614f"
      },
      "outputs": [
        {
          "data": {
            "text/plain": [
              "array([[[ 1,  2,  3],\n",
              "        [ 4,  5,  6],\n",
              "        [ 7,  8,  9]],\n",
              "\n",
              "       [[10, 11, 12],\n",
              "        [13, 14, 15],\n",
              "        [16, 17, 18]]])"
            ]
          },
          "execution_count": 95,
          "metadata": {},
          "output_type": "execute_result"
        }
      ],
      "source": [
        "arr2"
      ]
    },
    {
      "cell_type": "code",
      "execution_count": null,
      "metadata": {
        "id": "dHfmoQhxtX6_",
        "outputId": "bcf03928-32b8-46a5-b14d-b0d047360867"
      },
      "outputs": [
        {
          "data": {
            "text/plain": [
              "(2, 3, 3)"
            ]
          },
          "execution_count": 96,
          "metadata": {},
          "output_type": "execute_result"
        }
      ],
      "source": [
        "arr2.shape"
      ]
    },
    {
      "cell_type": "code",
      "execution_count": null,
      "metadata": {
        "id": "GqOa7y1ntX6_"
      },
      "outputs": [],
      "source": [
        "# arr1 * arr2"
      ]
    },
    {
      "cell_type": "markdown",
      "metadata": {
        "id": "02AK9N-MtX7A"
      },
      "source": [
        "The error occurred because We're trying to perform an operation on two arrays (or matrices) that have incompatible shapes.\n",
        "\n",
        "These operations works under certain rules.\n",
        "1. The arrays must have the same number of dimensions, or one of the arrays can have dimensions of size 1, which can be expanded to match the larger array.\n",
        "2. The size of the dimensions must either be the same or one of them must be 1.\n",
        "\n",
        "So, now we need to reshape one of the array!"
      ]
    },
    {
      "cell_type": "code",
      "execution_count": null,
      "metadata": {
        "id": "MVZBvLchtX7A",
        "outputId": "1dba683a-6ec1-46f9-e7ec-7e83477d0e6f"
      },
      "outputs": [
        {
          "data": {
            "text/plain": [
              "(2, 3)"
            ]
          },
          "execution_count": 98,
          "metadata": {},
          "output_type": "execute_result"
        }
      ],
      "source": [
        "arr1.shape"
      ]
    },
    {
      "cell_type": "code",
      "execution_count": null,
      "metadata": {
        "id": "dUnDxm4ctX7A",
        "outputId": "a8b29aa4-33b3-4d80-d460-f4d96c5b5c11"
      },
      "outputs": [
        {
          "data": {
            "text/plain": [
              "(2, 3, 1)"
            ]
          },
          "execution_count": 99,
          "metadata": {},
          "output_type": "execute_result"
        }
      ],
      "source": [
        "arr1.reshape(2, 3, 1).shape"
      ]
    },
    {
      "cell_type": "code",
      "execution_count": null,
      "metadata": {
        "id": "bTKYSIL_tX7A",
        "outputId": "583f42af-b8c9-4275-828f-a8686e122b02"
      },
      "outputs": [
        {
          "data": {
            "text/plain": [
              "(2, 3, 3)"
            ]
          },
          "execution_count": 100,
          "metadata": {},
          "output_type": "execute_result"
        }
      ],
      "source": [
        "arr2.shape"
      ]
    },
    {
      "cell_type": "code",
      "execution_count": null,
      "metadata": {
        "id": "1NbmjfiatX7A",
        "outputId": "acd2132d-8a40-48e9-b0e2-af33dbe2e668"
      },
      "outputs": [
        {
          "data": {
            "text/plain": [
              "array([[[1. ],\n",
              "        [2. ],\n",
              "        [3.3]],\n",
              "\n",
              "       [[4. ],\n",
              "        [5. ],\n",
              "        [6.5]]])"
            ]
          },
          "execution_count": 101,
          "metadata": {},
          "output_type": "execute_result"
        }
      ],
      "source": [
        "arr1_reshape = arr1.reshape(2, 3, 1)\n",
        "arr1_reshape"
      ]
    },
    {
      "cell_type": "code",
      "execution_count": null,
      "metadata": {
        "id": "VDNZ3KOqtX7A",
        "outputId": "b7b66068-3115-4c6a-dc70-fc37e3209045"
      },
      "outputs": [
        {
          "data": {
            "text/plain": [
              "array([[[  1. ,   2. ,   3. ],\n",
              "        [  8. ,  10. ,  12. ],\n",
              "        [ 23.1,  26.4,  29.7]],\n",
              "\n",
              "       [[ 40. ,  44. ,  48. ],\n",
              "        [ 65. ,  70. ,  75. ],\n",
              "        [104. , 110.5, 117. ]]])"
            ]
          },
          "execution_count": 102,
          "metadata": {},
          "output_type": "execute_result"
        }
      ],
      "source": [
        "arr1_reshape * arr2"
      ]
    },
    {
      "cell_type": "code",
      "execution_count": null,
      "metadata": {
        "id": "ccL3zeeKtX7A",
        "outputId": "2db29fee-3af1-4e10-ed74-35b340490936"
      },
      "outputs": [
        {
          "data": {
            "text/plain": [
              "array([[1. , 2. , 3.3],\n",
              "       [4. , 5. , 6.5]])"
            ]
          },
          "execution_count": 103,
          "metadata": {},
          "output_type": "execute_result"
        }
      ],
      "source": [
        "arr1"
      ]
    },
    {
      "cell_type": "code",
      "execution_count": null,
      "metadata": {
        "id": "yjCbqkiKtX7A",
        "outputId": "3f7461d5-0640-4a8b-d067-5ff4d29ca6d0"
      },
      "outputs": [
        {
          "data": {
            "text/plain": [
              "(2, 3)"
            ]
          },
          "execution_count": 104,
          "metadata": {},
          "output_type": "execute_result"
        }
      ],
      "source": [
        "arr1.shape"
      ]
    },
    {
      "cell_type": "code",
      "execution_count": null,
      "metadata": {
        "id": "1NILz2c3tX7A",
        "outputId": "f844fb17-5320-41af-c801-c355668d43af"
      },
      "outputs": [
        {
          "data": {
            "text/plain": [
              "array([[1. , 4. ],\n",
              "       [2. , 5. ],\n",
              "       [3.3, 6.5]])"
            ]
          },
          "execution_count": 105,
          "metadata": {},
          "output_type": "execute_result"
        }
      ],
      "source": [
        "# Transpose = switches the axis'\n",
        "arr1.T"
      ]
    },
    {
      "cell_type": "code",
      "execution_count": null,
      "metadata": {
        "id": "Wzd1NhZItX7A",
        "outputId": "606f4aa0-d95a-42dd-be7e-3d55d23245ae"
      },
      "outputs": [
        {
          "data": {
            "text/plain": [
              "(3, 2)"
            ]
          },
          "execution_count": 106,
          "metadata": {},
          "output_type": "execute_result"
        }
      ],
      "source": [
        "arr1.T.shape"
      ]
    },
    {
      "cell_type": "code",
      "execution_count": null,
      "metadata": {
        "id": "-h80ZXUvtX7A",
        "outputId": "72cd6441-6299-4a40-c51d-e92fd0a3e12e"
      },
      "outputs": [
        {
          "data": {
            "text/plain": [
              "array([[[ 1,  2,  3],\n",
              "        [ 4,  5,  6],\n",
              "        [ 7,  8,  9]],\n",
              "\n",
              "       [[10, 11, 12],\n",
              "        [13, 14, 15],\n",
              "        [16, 17, 18]]])"
            ]
          },
          "execution_count": 107,
          "metadata": {},
          "output_type": "execute_result"
        }
      ],
      "source": [
        "arr2"
      ]
    },
    {
      "cell_type": "code",
      "execution_count": null,
      "metadata": {
        "id": "pX4zMWZQtX7A",
        "outputId": "74c364c0-2c79-44f0-af81-faec3daa068f"
      },
      "outputs": [
        {
          "data": {
            "text/plain": [
              "(2, 3, 3)"
            ]
          },
          "execution_count": 108,
          "metadata": {},
          "output_type": "execute_result"
        }
      ],
      "source": [
        "arr2.shape"
      ]
    },
    {
      "cell_type": "code",
      "execution_count": null,
      "metadata": {
        "id": "ZFCujMfPtX7B",
        "outputId": "7ef67bf2-bf06-4320-95e1-20b55fc7607f"
      },
      "outputs": [
        {
          "data": {
            "text/plain": [
              "array([[[ 1, 10],\n",
              "        [ 4, 13],\n",
              "        [ 7, 16]],\n",
              "\n",
              "       [[ 2, 11],\n",
              "        [ 5, 14],\n",
              "        [ 8, 17]],\n",
              "\n",
              "       [[ 3, 12],\n",
              "        [ 6, 15],\n",
              "        [ 9, 18]]])"
            ]
          },
          "execution_count": 109,
          "metadata": {},
          "output_type": "execute_result"
        }
      ],
      "source": [
        "arr2.T"
      ]
    },
    {
      "cell_type": "code",
      "execution_count": null,
      "metadata": {
        "id": "oY4xGtOVtX7B",
        "outputId": "0ec8b3c7-33e7-4fce-e0f3-b72fd3dfc95e"
      },
      "outputs": [
        {
          "data": {
            "text/plain": [
              "(3, 3, 2)"
            ]
          },
          "execution_count": 110,
          "metadata": {},
          "output_type": "execute_result"
        }
      ],
      "source": [
        "arr2.T.shape"
      ]
    },
    {
      "cell_type": "markdown",
      "metadata": {
        "id": "6qEyVI7dtX7B"
      },
      "source": [
        "## Dot product"
      ]
    },
    {
      "cell_type": "code",
      "execution_count": null,
      "metadata": {
        "id": "9rSECPrstX7B",
        "outputId": "8c4fba63-be29-464a-dae1-1a3ba4533a7d"
      },
      "outputs": [
        {
          "data": {
            "text/plain": [
              "array([[4, 5, 0],\n",
              "       [3, 3, 3],\n",
              "       [1, 3, 5],\n",
              "       [2, 4, 0]])"
            ]
          },
          "execution_count": 111,
          "metadata": {},
          "output_type": "execute_result"
        }
      ],
      "source": [
        "np.random.seed(0)\n",
        "\n",
        "matr1 = np.random.randint(6, size=(4, 3))\n",
        "matr2 = np.random.randint(6, size=(4, 3))\n",
        "\n",
        "matr1"
      ]
    },
    {
      "cell_type": "code",
      "execution_count": null,
      "metadata": {
        "id": "lfv2YfJxtX7B",
        "outputId": "16b099da-3fd0-4038-8024-34aa3a951659"
      },
      "outputs": [
        {
          "data": {
            "text/plain": [
              "array([[0, 4, 2],\n",
              "       [1, 0, 1],\n",
              "       [5, 1, 5],\n",
              "       [0, 1, 4]])"
            ]
          },
          "execution_count": 112,
          "metadata": {},
          "output_type": "execute_result"
        }
      ],
      "source": [
        "matr2"
      ]
    },
    {
      "cell_type": "code",
      "execution_count": null,
      "metadata": {
        "id": "eDMZeTImtX7B",
        "outputId": "135f8bbe-0a60-4c64-cff2-bd222139d080"
      },
      "outputs": [
        {
          "data": {
            "text/plain": [
              "((4, 3), (4, 3))"
            ]
          },
          "execution_count": 113,
          "metadata": {},
          "output_type": "execute_result"
        }
      ],
      "source": [
        "matr1.shape, matr2.shape"
      ]
    },
    {
      "cell_type": "code",
      "execution_count": null,
      "metadata": {
        "id": "DO-prXPttX7B",
        "outputId": "9044c1b0-4a29-4be4-ebc8-fdf88bf0b506"
      },
      "outputs": [
        {
          "data": {
            "text/plain": [
              "array([[4, 5, 0],\n",
              "       [3, 3, 3],\n",
              "       [1, 3, 5],\n",
              "       [2, 4, 0]])"
            ]
          },
          "execution_count": 114,
          "metadata": {},
          "output_type": "execute_result"
        }
      ],
      "source": [
        "matr1"
      ]
    },
    {
      "cell_type": "code",
      "execution_count": null,
      "metadata": {
        "id": "98mbUcbftX7B",
        "outputId": "8086de06-6350-4cb0-b3a4-55a9b3f8c0db"
      },
      "outputs": [
        {
          "data": {
            "text/plain": [
              "array([[0, 4, 2],\n",
              "       [1, 0, 1],\n",
              "       [5, 1, 5],\n",
              "       [0, 1, 4]])"
            ]
          },
          "execution_count": 115,
          "metadata": {},
          "output_type": "execute_result"
        }
      ],
      "source": [
        "matr2"
      ]
    },
    {
      "cell_type": "code",
      "execution_count": null,
      "metadata": {
        "id": "MGzdx6XKtX7B",
        "outputId": "6e518228-abdb-4995-a32a-edfbe69b53bf"
      },
      "outputs": [
        {
          "data": {
            "text/plain": [
              "array([[ 0, 20,  0],\n",
              "       [ 3,  0,  3],\n",
              "       [ 5,  3, 25],\n",
              "       [ 0,  4,  0]])"
            ]
          },
          "execution_count": 116,
          "metadata": {},
          "output_type": "execute_result"
        }
      ],
      "source": [
        "# Element-wise multiplication (Hadamard product)\n",
        "matr1 * matr2"
      ]
    },
    {
      "cell_type": "code",
      "execution_count": null,
      "metadata": {
        "id": "Clpf7E74tX7B"
      },
      "outputs": [],
      "source": [
        "# Dot product\n",
        "# np.dot(matr1, matr2)"
      ]
    },
    {
      "cell_type": "markdown",
      "metadata": {
        "id": "xhtCZrE3tX7B"
      },
      "source": [
        "The reason of the error is\n",
        "inorder to calculate the dot product of the two matrices the shapes to be aligned with each other,\n",
        "in these scenarios we have to reshape or transpose the matrix to align the shape and then perform calculation."
      ]
    },
    {
      "cell_type": "code",
      "execution_count": null,
      "metadata": {
        "id": "P5zN40x8tX7B",
        "outputId": "853ee89b-568e-4a4a-bfe6-2063864a4ecd"
      },
      "outputs": [
        {
          "data": {
            "text/plain": [
              "array([[4, 3, 1, 2],\n",
              "       [5, 3, 3, 4],\n",
              "       [0, 3, 5, 0]])"
            ]
          },
          "execution_count": 118,
          "metadata": {},
          "output_type": "execute_result"
        }
      ],
      "source": [
        "# Transpose mat1\n",
        "matr1.T"
      ]
    },
    {
      "cell_type": "code",
      "execution_count": null,
      "metadata": {
        "id": "Tao1Ag7rtX7B",
        "outputId": "328be1f2-22de-4d25-d2d4-bff690ebcaa6"
      },
      "outputs": [
        {
          "data": {
            "text/plain": [
              "((4, 3), (3, 4))"
            ]
          },
          "execution_count": 119,
          "metadata": {},
          "output_type": "execute_result"
        }
      ],
      "source": [
        "matr1.shape, matr2.T.shape"
      ]
    },
    {
      "cell_type": "code",
      "execution_count": null,
      "metadata": {
        "id": "8Le1ixPYtX7B",
        "outputId": "9cf2947d-ea58-4502-c39a-6d7b8a8f79ca"
      },
      "outputs": [
        {
          "data": {
            "text/plain": [
              "array([[20,  4, 25,  5],\n",
              "       [18,  6, 33, 15],\n",
              "       [22,  6, 33, 23],\n",
              "       [16,  2, 14,  4]])"
            ]
          },
          "execution_count": 120,
          "metadata": {},
          "output_type": "execute_result"
        }
      ],
      "source": [
        "matr3 = np.dot(matr1, matr2.T)\n",
        "matr3"
      ]
    },
    {
      "cell_type": "code",
      "execution_count": null,
      "metadata": {
        "id": "sNAVJnM9tX7B",
        "outputId": "d0abb538-af6d-414f-e723-64ac144f04b1"
      },
      "outputs": [
        {
          "data": {
            "text/plain": [
              "(4, 4)"
            ]
          },
          "execution_count": 121,
          "metadata": {},
          "output_type": "execute_result"
        }
      ],
      "source": [
        "matr3.shape"
      ]
    },
    {
      "cell_type": "markdown",
      "metadata": {
        "id": "-TiymseitX7B"
      },
      "source": [
        "### Comparison Operators"
      ]
    },
    {
      "cell_type": "code",
      "execution_count": null,
      "metadata": {
        "id": "A575rfeWtX7B",
        "outputId": "f1918c99-a6a0-488c-a0d9-47656186900e"
      },
      "outputs": [
        {
          "data": {
            "text/plain": [
              "array([7, 4, 2])"
            ]
          },
          "execution_count": 122,
          "metadata": {},
          "output_type": "execute_result"
        }
      ],
      "source": [
        "arr3"
      ]
    },
    {
      "cell_type": "code",
      "execution_count": null,
      "metadata": {
        "id": "N3gUo2g3tX7C",
        "outputId": "dd92c1ff-5505-477b-f46f-f96725a4a457"
      },
      "outputs": [
        {
          "data": {
            "text/plain": [
              "array([[1. , 2. , 3.3],\n",
              "       [4. , 5. , 6.5]])"
            ]
          },
          "execution_count": 123,
          "metadata": {},
          "output_type": "execute_result"
        }
      ],
      "source": [
        "arr1"
      ]
    },
    {
      "cell_type": "code",
      "execution_count": null,
      "metadata": {
        "id": "fIEPDUk0tX7C",
        "outputId": "ccafa013-3b2c-449a-cf9f-b83c913a4970"
      },
      "outputs": [
        {
          "data": {
            "text/plain": [
              "array([[ True,  True, False],\n",
              "       [ True, False, False]])"
            ]
          },
          "execution_count": 124,
          "metadata": {},
          "output_type": "execute_result"
        }
      ],
      "source": [
        "arr3 > arr1"
      ]
    },
    {
      "cell_type": "code",
      "execution_count": null,
      "metadata": {
        "id": "fkWDHtu-tX7C",
        "outputId": "94415ed5-02eb-4dff-e671-34de23dc05dd"
      },
      "outputs": [
        {
          "data": {
            "text/plain": [
              "array([[ True,  True, False],\n",
              "       [ True, False, False]])"
            ]
          },
          "execution_count": 125,
          "metadata": {},
          "output_type": "execute_result"
        }
      ],
      "source": [
        "bool_array = arr3 >= arr1\n",
        "bool_array"
      ]
    },
    {
      "cell_type": "code",
      "execution_count": null,
      "metadata": {
        "id": "ojob8pp3tX7C",
        "outputId": "7778455c-4734-41e5-833b-cf97368f822e"
      },
      "outputs": [
        {
          "data": {
            "text/plain": [
              "(numpy.ndarray, dtype('bool'))"
            ]
          },
          "execution_count": 126,
          "metadata": {},
          "output_type": "execute_result"
        }
      ],
      "source": [
        "type(bool_array), bool_array.dtype"
      ]
    },
    {
      "cell_type": "code",
      "execution_count": null,
      "metadata": {
        "id": "cAjDDyiRtX7C",
        "outputId": "042014bd-fae3-441a-fb0e-cfde37b29a6e"
      },
      "outputs": [
        {
          "data": {
            "text/plain": [
              "array([ True, False, False])"
            ]
          },
          "execution_count": 127,
          "metadata": {},
          "output_type": "execute_result"
        }
      ],
      "source": [
        "arr3 > 5"
      ]
    },
    {
      "cell_type": "code",
      "execution_count": null,
      "metadata": {
        "id": "OdO4GU1ZtX7C",
        "outputId": "e0668cd0-7a07-4957-fa06-a5c03910588b"
      },
      "outputs": [
        {
          "data": {
            "text/plain": [
              "array([False,  True,  True])"
            ]
          },
          "execution_count": 128,
          "metadata": {},
          "output_type": "execute_result"
        }
      ],
      "source": [
        "arr3 < 5"
      ]
    },
    {
      "cell_type": "code",
      "execution_count": null,
      "metadata": {
        "id": "n1OMH5Z3tX7C",
        "outputId": "f16076e2-301e-4ed5-9d02-63e55e614e65"
      },
      "outputs": [
        {
          "data": {
            "text/plain": [
              "array([ True,  True,  True])"
            ]
          },
          "execution_count": 129,
          "metadata": {},
          "output_type": "execute_result"
        }
      ],
      "source": [
        "arr3 == arr3"
      ]
    },
    {
      "cell_type": "code",
      "execution_count": null,
      "metadata": {
        "id": "ZFmLnsijtX7C",
        "outputId": "39ad1423-caff-4b42-c725-691c16b96103"
      },
      "outputs": [
        {
          "data": {
            "text/plain": [
              "array([7, 4, 2])"
            ]
          },
          "execution_count": 130,
          "metadata": {},
          "output_type": "execute_result"
        }
      ],
      "source": [
        "arr3"
      ]
    },
    {
      "cell_type": "code",
      "execution_count": null,
      "metadata": {
        "id": "Xdq0gikjtX7C",
        "outputId": "653fca16-6aff-4e92-8560-4b74c502f3ec"
      },
      "outputs": [
        {
          "data": {
            "text/plain": [
              "array([[1. , 2. , 3.3],\n",
              "       [4. , 5. , 6.5]])"
            ]
          },
          "execution_count": 131,
          "metadata": {},
          "output_type": "execute_result"
        }
      ],
      "source": [
        "arr1"
      ]
    },
    {
      "cell_type": "code",
      "execution_count": null,
      "metadata": {
        "id": "6j6Fvp62tX7C",
        "outputId": "883c7b87-1187-4c12-e11d-b410974db863"
      },
      "outputs": [
        {
          "data": {
            "text/plain": [
              "array([[False, False, False],\n",
              "       [False, False, False]])"
            ]
          },
          "execution_count": 132,
          "metadata": {},
          "output_type": "execute_result"
        }
      ],
      "source": [
        "arr3 == arr1"
      ]
    },
    {
      "cell_type": "code",
      "execution_count": null,
      "metadata": {
        "id": "_ddIOUL0tX7C",
        "outputId": "51f7f6cd-140e-405b-a05c-d13ebda296b9"
      },
      "outputs": [
        {
          "data": {
            "text/plain": [
              "array([False, False,  True])"
            ]
          },
          "execution_count": 219,
          "metadata": {},
          "output_type": "execute_result"
        }
      ],
      "source": [
        "a=np.array([0.1*3, 4.2, 1.5])\n",
        "b=np.array([0.3, 2.1, 3/2])\n",
        "a==b"
      ]
    },
    {
      "cell_type": "markdown",
      "metadata": {
        "id": "EJo-gMVRtX7C"
      },
      "source": [
        "## 5. Sorting arrays"
      ]
    },
    {
      "cell_type": "code",
      "execution_count": null,
      "metadata": {
        "id": "EyOONwpptX7D",
        "outputId": "40c264a3-6c2f-43f8-f94c-7d0dbdd8011d"
      },
      "outputs": [
        {
          "data": {
            "text/plain": [
              "array([[3, 0, 3, 5, 0],\n",
              "       [2, 3, 0, 1, 3],\n",
              "       [5, 3, 3, 0, 1]])"
            ]
          },
          "execution_count": 133,
          "metadata": {},
          "output_type": "execute_result"
        }
      ],
      "source": [
        "random_array = np.random.randint(6, size=(3, 5))\n",
        "random_array"
      ]
    },
    {
      "cell_type": "code",
      "execution_count": null,
      "metadata": {
        "id": "TMj0nvxAtX7D",
        "outputId": "12d79965-6db2-4158-f88a-da80e0b653ed"
      },
      "outputs": [
        {
          "data": {
            "text/plain": [
              "(3, 5)"
            ]
          },
          "execution_count": 134,
          "metadata": {},
          "output_type": "execute_result"
        }
      ],
      "source": [
        "random_array.shape"
      ]
    },
    {
      "cell_type": "code",
      "execution_count": null,
      "metadata": {
        "id": "G0AzBpI9tX7D",
        "outputId": "d20d5128-9232-4829-d6b0-0e7b45c3e7c9"
      },
      "outputs": [
        {
          "data": {
            "text/plain": [
              "array([[0, 0, 3, 3, 5],\n",
              "       [0, 1, 2, 3, 3],\n",
              "       [0, 1, 3, 3, 5]])"
            ]
          },
          "execution_count": 135,
          "metadata": {},
          "output_type": "execute_result"
        }
      ],
      "source": [
        "np.sort(random_array)"
      ]
    },
    {
      "cell_type": "code",
      "execution_count": null,
      "metadata": {
        "id": "dqSiGI0WtX7D",
        "outputId": "85530fb3-cab9-426a-872f-71661bdc0557"
      },
      "outputs": [
        {
          "data": {
            "text/plain": [
              "array([[3, 0, 3, 5, 0],\n",
              "       [2, 3, 0, 1, 3],\n",
              "       [5, 3, 3, 0, 1]])"
            ]
          },
          "execution_count": 136,
          "metadata": {},
          "output_type": "execute_result"
        }
      ],
      "source": [
        "random_array"
      ]
    },
    {
      "cell_type": "code",
      "execution_count": null,
      "metadata": {
        "id": "n2XMxGektX7D",
        "outputId": "b1c85624-e28a-406b-f4f6-1ab435f878d6"
      },
      "outputs": [
        {
          "data": {
            "text/plain": [
              "array([[1, 4, 0, 2, 3],\n",
              "       [2, 3, 0, 1, 4],\n",
              "       [3, 4, 1, 2, 0]])"
            ]
          },
          "execution_count": 137,
          "metadata": {},
          "output_type": "execute_result"
        }
      ],
      "source": [
        "np.argsort(random_array)"
      ]
    },
    {
      "cell_type": "code",
      "execution_count": null,
      "metadata": {
        "id": "Yg26C4qptX7D",
        "outputId": "a3f95ae4-601c-4ee6-fb6f-326dce2528fa"
      },
      "outputs": [
        {
          "data": {
            "text/plain": [
              "array([7, 4, 2])"
            ]
          },
          "execution_count": 138,
          "metadata": {},
          "output_type": "execute_result"
        }
      ],
      "source": [
        "arr3"
      ]
    },
    {
      "cell_type": "code",
      "execution_count": null,
      "metadata": {
        "id": "AHtyy_6KtX7D",
        "outputId": "3ab626e6-3e4a-4d6c-e997-b37d843ea69e"
      },
      "outputs": [
        {
          "data": {
            "text/plain": [
              "array([2, 1, 0])"
            ]
          },
          "execution_count": 139,
          "metadata": {},
          "output_type": "execute_result"
        }
      ],
      "source": [
        "np.argsort(arr3)"
      ]
    },
    {
      "cell_type": "code",
      "execution_count": null,
      "metadata": {
        "id": "szMTOVWetX7D",
        "outputId": "cc0c3050-155e-4a16-a785-717c86e91710"
      },
      "outputs": [
        {
          "data": {
            "text/plain": [
              "2"
            ]
          },
          "execution_count": 140,
          "metadata": {},
          "output_type": "execute_result"
        }
      ],
      "source": [
        "np.argmin(arr3)"
      ]
    },
    {
      "cell_type": "code",
      "execution_count": null,
      "metadata": {
        "id": "H4PohNWutX7D",
        "outputId": "ee0540c9-2f5f-4a5f-d9eb-b8eb1c9dad5f"
      },
      "outputs": [
        {
          "data": {
            "text/plain": [
              "0"
            ]
          },
          "execution_count": 141,
          "metadata": {},
          "output_type": "execute_result"
        }
      ],
      "source": [
        "np.argmax(arr3)"
      ]
    },
    {
      "cell_type": "code",
      "execution_count": null,
      "metadata": {
        "id": "7T0UzPabtX7D",
        "outputId": "13e0d212-4df9-4bda-f1f3-69205db88dce"
      },
      "outputs": [
        {
          "data": {
            "text/plain": [
              "array([[3, 0, 3, 5, 0],\n",
              "       [2, 3, 0, 1, 3],\n",
              "       [5, 3, 3, 0, 1]])"
            ]
          },
          "execution_count": 142,
          "metadata": {},
          "output_type": "execute_result"
        }
      ],
      "source": [
        "random_array"
      ]
    },
    {
      "cell_type": "code",
      "execution_count": null,
      "metadata": {
        "id": "X-O6VjzntX7D",
        "outputId": "a21fdbd9-4d41-4ef2-ab31-b190e8e96500"
      },
      "outputs": [
        {
          "data": {
            "text/plain": [
              "array([2, 1, 0, 0, 1])"
            ]
          },
          "execution_count": 143,
          "metadata": {},
          "output_type": "execute_result"
        }
      ],
      "source": [
        "np.argmax(random_array, axis=0)"
      ]
    },
    {
      "cell_type": "code",
      "execution_count": null,
      "metadata": {
        "id": "TkgGBBEttX7D",
        "outputId": "c84b37a1-15cd-4951-e2b4-6e1811958eba"
      },
      "outputs": [
        {
          "data": {
            "text/plain": [
              "array([3, 1, 0])"
            ]
          },
          "execution_count": 144,
          "metadata": {},
          "output_type": "execute_result"
        }
      ],
      "source": [
        "np.argmax(random_array, axis=1)"
      ]
    },
    {
      "cell_type": "markdown",
      "metadata": {
        "id": "Xn7-3_vUtX7D"
      },
      "source": [
        "## Arrays are Everywhere!"
      ]
    },
    {
      "cell_type": "code",
      "execution_count": null,
      "metadata": {
        "id": "KJfxpyyVtX7D",
        "outputId": "610f9f44-7916-4905-dcd6-1b5f9c726ca4"
      },
      "outputs": [
        {
          "name": "stdout",
          "output_type": "stream",
          "text": [
            "<class 'numpy.ndarray'>\n",
            "<class 'numpy.uint8'>\n"
          ]
        }
      ],
      "source": [
        "import numpy as np\n",
        "from PIL import Image\n",
        "import requests\n",
        "from io import BytesIO\n",
        "\n",
        "# Open the URL for reading and pass the result to Pillow to convert it to a NumPy array\n",
        "url = \"https://upload.wikimedia.org/wikipedia/commons/a/a3/June_odd-eyed-cat.jpg\"\n",
        "\n",
        "response = requests.get(url)\n",
        "\n",
        "pil_image = Image.open(BytesIO(response.content))\n",
        "pix_values = np.array(pil_image)\n",
        "\n",
        "# Checking the type of the variable\n",
        "print(type(pix_values))\n",
        "print(type(pix_values[0][0][0]))\n"
      ]
    },
    {
      "cell_type": "code",
      "execution_count": null,
      "metadata": {
        "id": "PonbflcOtX7E",
        "outputId": "00172a5c-c335-4762-b746-fdf37308b421"
      },
      "outputs": [
        {
          "data": {
            "text/plain": [
              "(13700970, (1927, 2370, 3), 3)"
            ]
          },
          "execution_count": 146,
          "metadata": {},
          "output_type": "execute_result"
        }
      ],
      "source": [
        "pix_values.size, pix_values.shape, pix_values.ndim"
      ]
    },
    {
      "cell_type": "code",
      "execution_count": null,
      "metadata": {
        "id": "ggvfRJlUtX7E",
        "outputId": "d09888dc-f0c6-47ba-ce9d-0bbae2bc9946"
      },
      "outputs": [
        {
          "data": {
            "text/plain": [
              "(5, 2370, 3)"
            ]
          },
          "execution_count": 240,
          "metadata": {},
          "output_type": "execute_result"
        }
      ],
      "source": [
        "pix_values[:5]"
      ]
    },
    {
      "cell_type": "code",
      "execution_count": null,
      "metadata": {
        "id": "h-xq0DuQtX7E",
        "outputId": "082b09d4-eee7-4a06-b003-d2e7aa8ab794"
      },
      "outputs": [
        {
          "data": {
            "text/plain": [
              "255"
            ]
          },
          "execution_count": 242,
          "metadata": {},
          "output_type": "execute_result"
        }
      ],
      "source": [
        "pix_values.max()"
      ]
    },
    {
      "cell_type": "code",
      "execution_count": null,
      "metadata": {
        "id": "55OLWnUJtX7E"
      },
      "outputs": [],
      "source": [
        "pil_image.show()"
      ]
    },
    {
      "cell_type": "code",
      "execution_count": null,
      "metadata": {
        "id": "dO1qwRS7tX7E",
        "outputId": "8bc4e97a-874f-4037-9797-cf5238994a10"
      },
      "outputs": [
        {
          "data": {
            "image/png": "[encoded data removed]",
            "text/plain": [
              "<Figure size 640x480 with 1 Axes>"
            ]
          },
          "metadata": {},
          "output_type": "display_data"
        }
      ],
      "source": [
        "import matplotlib.pyplot as plt\n",
        "\n",
        "transposed_array = pix_values.transpose(1, 0, 2)\n",
        "plt.imshow(transposed_array)\n",
        "#plt.axis('off')\n",
        "plt.title(\"Transposed Image\");\n"
      ]
    },
    {
      "cell_type": "code",
      "execution_count": null,
      "metadata": {
        "id": "V0tsu0fStX7E"
      },
      "outputs": [],
      "source": [
        "# Convert the transposed numpy array back to a PIL image\n",
        "transposed_image = Image.fromarray(transposed_array.astype(np.uint8))\n",
        "transposed_image.show()\n"
      ]
    },
    {
      "cell_type": "code",
      "execution_count": null,
      "metadata": {
        "id": "Eo6LjRiUtX7E",
        "outputId": "62b9dd2f-c18f-41bc-f562-911f29a6cf61"
      },
      "outputs": [
        {
          "name": "stdout",
          "output_type": "stream",
          "text": [
            "(2623, 2888)\n"
          ]
        }
      ],
      "source": [
        "rotated_image = transposed_image.rotate(20, expand=True)\n",
        "rotated_image.show()\n",
        "print(rotated_image.size)"
      ]
    }
  ],
  "metadata": {
    "kernelspec": {
      "display_name": "Python (tf_metal)",
      "language": "python",
      "name": "tf_metal"
    },
    "language_info": {
      "codemirror_mode": {
        "name": "ipython",
        "version": 3
      },
      "file_extension": ".py",
      "mimetype": "text/x-python",
      "name": "python",
      "nbconvert_exporter": "python",
      "pygments_lexer": "ipython3",
      "version": "3.9.18"
    },
    "colab": {
      "provenance": [],
      "include_colab_link": true
    }
  },
  "nbformat": 4,
  "nbformat_minor": 0
}